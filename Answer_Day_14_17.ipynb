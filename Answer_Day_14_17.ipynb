{
  "nbformat": 4,
  "nbformat_minor": 0,
  "metadata": {
    "colab": {
      "provenance": []
    },
    "kernelspec": {
      "name": "python3",
      "display_name": "Python 3"
    },
    "language_info": {
      "name": "python"
    }
  },
  "cells": [
    {
      "cell_type": "markdown",
      "source": [
        "File I/O Operations"
      ],
      "metadata": {
        "id": "t83HkgoYqZ4R"
      }
    },
    {
      "cell_type": "code",
      "source": [
        "# 1.How can you read the entire content of a file using Python? Write a code snippet to demonstrate this.\n",
        "file = open(\"/content/India.txt\", \"r\")\n",
        "content = file.read()\n",
        "print(content)\n",
        "file.close()"
      ],
      "metadata": {
        "colab": {
          "base_uri": "https://localhost:8080/"
        },
        "id": "CoIKnIc-qeBS",
        "outputId": "8066b9e9-247f-4564-a59d-9810f5aba87e"
      },
      "execution_count": 3,
      "outputs": [
        {
          "output_type": "stream",
          "name": "stdout",
          "text": [
            "India is a land of contrasts, where ancient history and modernity coexist in a vibrant kaleidoscope of cultures, religions, and landscapes. Whether you want to marvel at the majestic Taj Mahal, the symbol of love and one of the wonders of the world, or experience the spiritual bliss of the holy Ganges river, India has something for everyone. You can also explore the rich wildlife of India, home to the largest population of tigers in the world, or enjoy the scenic beauty of the Himalayas, the world's highest mountain range. India is a feast for the senses, with its colorful festivals, aromatic cuisine, and diverse music and dance. No matter where you go, you will be greeted by the warmth and hospitality of the people, who will make you feel welcome and inspired by their incredible country.\n"
          ]
        }
      ]
    },
    {
      "cell_type": "code",
      "source": [
        "#  2.Write a program to create a new text file and write three lines of content to it. Then, read the file and print its content.\n",
        "file_1 = open(\"/content/Sample.txt\", \"w\")\n",
        "file_1.write(\"This is the first line.\\n\")\n",
        "file_1.write(\"This is the secound line.\\n\")\n",
        "file_1.write(\"This is the third line.\")\n",
        "file_1.close()\n",
        "\n",
        "\n",
        "file_1 = open(\"/content/Sample.txt\", \"r\")\n",
        "content = file_1.read()\n",
        "file_1.close()\n",
        "print(content)"
      ],
      "metadata": {
        "colab": {
          "base_uri": "https://localhost:8080/"
        },
        "id": "vxW93c8ZquVf",
        "outputId": "9db2be2c-23a2-41e6-f296-7c65fc383008"
      },
      "execution_count": 9,
      "outputs": [
        {
          "output_type": "stream",
          "name": "stdout",
          "text": [
            "This is the first line.\n",
            "This is the secound line.\n",
            "This is the third line.\n"
          ]
        }
      ]
    },
    {
      "cell_type": "code",
      "source": [
        "# 3.Explain the difference between read() and readlines() methods in file handling.\n",
        "with open(\"/content/example.txt\", \"r\") as file_2:\n",
        "  content = file_2.read()   # Reads the entire content of the file as a single string\n",
        "  print(content)\n",
        "  file_2.seek(0)\n",
        "  lines = file_2.readlines()  # Reads the entire file line by line and returns a list of strings, where each string is a line from the file.\n",
        "  print(lines)"
      ],
      "metadata": {
        "colab": {
          "base_uri": "https://localhost:8080/"
        },
        "id": "2o64LYqjr5Bs",
        "outputId": "6a73e8bd-a72e-4559-db3e-ff5f4fec3b4a"
      },
      "execution_count": 20,
      "outputs": [
        {
          "output_type": "stream",
          "name": "stdout",
          "text": [
            "Line 1\n",
            "Line 2\n",
            "Line 3\n",
            "\n",
            "['Line 1\\n', 'Line 2\\n', 'Line 3\\n']\n"
          ]
        }
      ]
    },
    {
      "cell_type": "code",
      "source": [
        "# 4.Using the os module, write a program to check if a specific file exists. If it does, rename it to a new name.\n",
        "import os\n",
        "if os.path.exists(\"/content/os file.txt\"):\n",
        "  print(\"File exists.\")\n",
        "  print(\"Now renaming file name....\")\n",
        "  os.rename(\"/content/os file.txt\", \"/content/os file_ 1.txt\")\n",
        "  print(\"Done\")\n",
        "else:\n",
        "  print(\"File does not exists.\")"
      ],
      "metadata": {
        "colab": {
          "base_uri": "https://localhost:8080/"
        },
        "id": "a8AJI7WDtHLs",
        "outputId": "e8f20bbb-5d05-4f83-964f-739417be4b00"
      },
      "execution_count": 26,
      "outputs": [
        {
          "output_type": "stream",
          "name": "stdout",
          "text": [
            "File exists.\n",
            "Now renaming file name....\n",
            "Done\n"
          ]
        }
      ]
    },
    {
      "cell_type": "code",
      "source": [
        " # 5.What is the advantage of using the with statement for file operations in Python? Demonstrate it with an example.\n",
        " # file not opening with \"with\" statement\n",
        "file = open(\"/content/India.txt\", \"r\")\n",
        "content = file.read()\n",
        "print(content)\n",
        "file.close()  # we should manually close the file using close\n",
        "\n",
        "# file using \"with\" statement\n",
        "with open(\"/content/India.txt\", \"r\") as file:  # using with statement we dont need to close file using close\n",
        "  content = file.read()\n",
        "  print(content)"
      ],
      "metadata": {
        "colab": {
          "base_uri": "https://localhost:8080/"
        },
        "id": "9WHviPw6wDVM",
        "outputId": "b3b402e4-c36b-4d91-f790-0eb80367d863"
      },
      "execution_count": 27,
      "outputs": [
        {
          "output_type": "stream",
          "name": "stdout",
          "text": [
            "India is a land of contrasts, where ancient history and modernity coexist in a vibrant kaleidoscope of cultures, religions, and landscapes. Whether you want to marvel at the majestic Taj Mahal, the symbol of love and one of the wonders of the world, or experience the spiritual bliss of the holy Ganges river, India has something for everyone. You can also explore the rich wildlife of India, home to the largest population of tigers in the world, or enjoy the scenic beauty of the Himalayas, the world's highest mountain range. India is a feast for the senses, with its colorful festivals, aromatic cuisine, and diverse music and dance. No matter where you go, you will be greeted by the warmth and hospitality of the people, who will make you feel welcome and inspired by their incredible country.\n",
            "India is a land of contrasts, where ancient history and modernity coexist in a vibrant kaleidoscope of cultures, religions, and landscapes. Whether you want to marvel at the majestic Taj Mahal, the symbol of love and one of the wonders of the world, or experience the spiritual bliss of the holy Ganges river, India has something for everyone. You can also explore the rich wildlife of India, home to the largest population of tigers in the world, or enjoy the scenic beauty of the Himalayas, the world's highest mountain range. India is a feast for the senses, with its colorful festivals, aromatic cuisine, and diverse music and dance. No matter where you go, you will be greeted by the warmth and hospitality of the people, who will make you feel welcome and inspired by their incredible country.\n"
          ]
        }
      ]
    },
    {
      "cell_type": "markdown",
      "source": [
        "Dictionaries and Classes"
      ],
      "metadata": {
        "id": "AFYSUXG8zS3C"
      }
    },
    {
      "cell_type": "code",
      "source": [
        "# 1.Given a dictionary {'Name': 'John', 'Age': 25, 'City': 'New York'}, write a program to:\n",
        "#    •\tAdd a new key-value pair for the profession.\n",
        "#    •\tUpdate the age.\n",
        "#    •\tDelete the city key.\n",
        "\n",
        "dict_1 = {'Name': 'John',\n",
        "          'Age': 25,\n",
        "          'City': 'New York'}\n",
        "print(dict_1)\n",
        "# Add a new key-value pair for the profession.\n",
        "dict_1[\"profession\"] = \"data scientist\"\n",
        "print(dict_1)\n",
        "# Update the age\n",
        "dict_1['Age'] = 26\n",
        "print(dict_1)\n",
        "# Delete the city key\n",
        "del dict_1['City']\n",
        "print(dict_1)"
      ],
      "metadata": {
        "colab": {
          "base_uri": "https://localhost:8080/"
        },
        "id": "fh6GEczizUjj",
        "outputId": "18bacb40-c881-451d-a62f-a1b8365e9630"
      },
      "execution_count": 39,
      "outputs": [
        {
          "output_type": "stream",
          "name": "stdout",
          "text": [
            "{'Name': 'John', 'Age': 25, 'City': 'New York'}\n",
            "{'Name': 'John', 'Age': 25, 'City': 'New York', 'profession': 'data scientist'}\n",
            "{'Name': 'John', 'Age': 26, 'City': 'New York', 'profession': 'data scientist'}\n",
            "{'Name': 'John', 'Age': 26, 'profession': 'data scientist'}\n"
          ]
        }
      ]
    },
    {
      "cell_type": "code",
      "source": [
        "# 2.Define a Student class with attributes for Name, Age, and Marks. Create an instance and print these attributes.\n",
        "class student:\n",
        "  Name = \"Shahzor Ahmed\"\n",
        "  Age = 21\n",
        "  Marks = 75\n",
        "s1 = student()\n",
        "print(s1.Name)\n",
        "print(s1.Age)\n",
        "print(s1.Marks)"
      ],
      "metadata": {
        "colab": {
          "base_uri": "https://localhost:8080/"
        },
        "id": "B-LYDQ8ezhhW",
        "outputId": "6dfaa9a7-3e89-4e3d-d84a-5bb6f7176861"
      },
      "execution_count": 43,
      "outputs": [
        {
          "output_type": "stream",
          "name": "stdout",
          "text": [
            "Shahzor Ahmed\n",
            "21\n",
            "75\n"
          ]
        }
      ]
    },
    {
      "cell_type": "code",
      "source": [
        "# 3.Write a constructor in a class that accepts Name, Age, and City as parameters. Create multiple objects using this class.\n",
        "class description:\n",
        "  def __init__(self, Name, Age, City):\n",
        "    self.user_name = Name\n",
        "    self.user_age = Age\n",
        "    self.user_city = City\n",
        "\n",
        "user_1 = description(\"Shahzor Ahmed\", 21, \"NZB\")\n",
        "print(user_1.user_name)\n",
        "print(user_1.user_age)\n",
        "print(user_1.user_city)\n",
        "print(\"\\n\")\n",
        "user_2 = description(\"Faizan\", 21, \"HYD\")\n",
        "print(user_2.user_name)\n",
        "print(user_2.user_age)\n",
        "print(user_2.user_city)"
      ],
      "metadata": {
        "colab": {
          "base_uri": "https://localhost:8080/"
        },
        "id": "EaWPW68Z17XS",
        "outputId": "1ac527d0-a8db-47d8-b1e6-235aab341b45"
      },
      "execution_count": 46,
      "outputs": [
        {
          "output_type": "stream",
          "name": "stdout",
          "text": [
            "Shahzor Ahmed\n",
            "21\n",
            "NZB\n",
            "\n",
            "\n",
            "Faizan\n",
            "21\n",
            "HYD\n"
          ]
        }
      ]
    },
    {
      "cell_type": "code",
      "source": [
        "# 4.Explain encapsulation with an example in Python using the concept of private attributes.\n",
        "\n",
        "class Bank:\n",
        "  bank_account = 123456789\n",
        "  bank_name = \"HDFC\"\n",
        "  __bank_password = \"1234abc5678\"  # This is encapsulation it cannot be acess outseide of the class\n",
        "\n",
        "user1 = Bank()\n",
        "user1.bank_account\n",
        "user1.bank_name\n",
        "user1.__bank_password\n"
      ],
      "metadata": {
        "colab": {
          "base_uri": "https://localhost:8080/",
          "height": 220
        },
        "id": "HQV43nNd3XF9",
        "outputId": "7058985f-49d2-4b3f-e26f-1da851ec557a"
      },
      "execution_count": 51,
      "outputs": [
        {
          "output_type": "error",
          "ename": "AttributeError",
          "evalue": "'Bank' object has no attribute '__bank_password'",
          "traceback": [
            "\u001b[0;31m---------------------------------------------------------------------------\u001b[0m",
            "\u001b[0;31mAttributeError\u001b[0m                            Traceback (most recent call last)",
            "\u001b[0;32m<ipython-input-51-788db83bea75>\u001b[0m in \u001b[0;36m<cell line: 11>\u001b[0;34m()\u001b[0m\n\u001b[1;32m      9\u001b[0m \u001b[0muser1\u001b[0m\u001b[0;34m.\u001b[0m\u001b[0mbank_account\u001b[0m\u001b[0;34m\u001b[0m\u001b[0;34m\u001b[0m\u001b[0m\n\u001b[1;32m     10\u001b[0m \u001b[0muser1\u001b[0m\u001b[0;34m.\u001b[0m\u001b[0mbank_name\u001b[0m\u001b[0;34m\u001b[0m\u001b[0;34m\u001b[0m\u001b[0m\n\u001b[0;32m---> 11\u001b[0;31m \u001b[0muser1\u001b[0m\u001b[0;34m.\u001b[0m\u001b[0m__bank_password\u001b[0m\u001b[0;34m\u001b[0m\u001b[0;34m\u001b[0m\u001b[0m\n\u001b[0m\u001b[1;32m     12\u001b[0m \u001b[0;34m\u001b[0m\u001b[0m\n\u001b[1;32m     13\u001b[0m \u001b[0;31m# To solve this\u001b[0m\u001b[0;34m\u001b[0m\u001b[0;34m\u001b[0m\u001b[0m\n",
            "\u001b[0;31mAttributeError\u001b[0m: 'Bank' object has no attribute '__bank_password'"
          ]
        }
      ]
    },
    {
      "cell_type": "code",
      "source": [
        "# To solve 'Bank' object has no attribute '__bank_password'\n",
        "class Bank:\n",
        "  def __init__(self, bank_account,  bank_name, Bank_Password):\n",
        "    self.bank_account = bank_account\n",
        "    self.bank_name =  bank_name\n",
        "    self.__Bank_Password = Bank_Password\n",
        "\n",
        "  def get_bank_password(self):\n",
        "    return self.__Bank_Password\n",
        "\n",
        "user1 = Bank(\"HDFC\", 1234567879, \"1234abc5678\")\n",
        "print(user1.bank_account)\n",
        "print(user1.bank_name)\n",
        "user1.get_bank_password()"
      ],
      "metadata": {
        "colab": {
          "base_uri": "https://localhost:8080/",
          "height": 72
        },
        "id": "KsJXxVEO5MDA",
        "outputId": "73dae3f9-185f-4c41-ec11-c7a1f604b70b"
      },
      "execution_count": 56,
      "outputs": [
        {
          "output_type": "stream",
          "name": "stdout",
          "text": [
            "HDFC\n",
            "1234567879\n"
          ]
        },
        {
          "output_type": "execute_result",
          "data": {
            "text/plain": [
              "'1234abc5678'"
            ],
            "application/vnd.google.colaboratory.intrinsic+json": {
              "type": "string"
            }
          },
          "metadata": {},
          "execution_count": 56
        }
      ]
    },
    {
      "cell_type": "markdown",
      "source": [
        "Inheritance"
      ],
      "metadata": {
        "id": "3X7RaWoV8fbb"
      }
    },
    {
      "cell_type": "code",
      "source": [
        "# 1.\tDefine a Person class with attributes Name and Age,\n",
        "# Create a subclass Student that adds an attribute for Marks,\n",
        "# Demonstrate inheritance by printing attributes from both the parent and child classes.\n",
        "\n",
        "class Person:\n",
        "  def __init__(self, Name, Age):\n",
        "    self.Name = Name\n",
        "    self.Age = Age\n",
        "class student(Person):\n",
        "  def __init__(self, Name, Age, Marks):\n",
        "    super().__init__(Name, Age)\n",
        "    self.Marks = Marks\n",
        "\n",
        "student_1 = student(\"Shahzor Ahmed\", 21, 75)\n",
        "print(student_1.Name)\n",
        "print(student_1.Age)\n",
        "print(student_1.Marks)"
      ],
      "metadata": {
        "colab": {
          "base_uri": "https://localhost:8080/"
        },
        "id": "IwU8fWGr8jx0",
        "outputId": "7545e215-e62c-4271-e483-ed3539693010"
      },
      "execution_count": 58,
      "outputs": [
        {
          "output_type": "stream",
          "name": "stdout",
          "text": [
            "Shahzor Ahmed\n",
            "21\n",
            "75\n"
          ]
        }
      ]
    },
    {
      "cell_type": "markdown",
      "source": [
        "Polymorphism"
      ],
      "metadata": {
        "id": "xfjudtNd-Mwy"
      }
    },
    {
      "cell_type": "code",
      "source": [
        "# 1.Define two classes, Dog and Cat,\n",
        "# each with a method makeSound() that prints \"Bark\" and \"Meow\", respectively,\n",
        "# Demonstrate polymorphism by calling makeSound() on objects of both classes.\n",
        "\n",
        "class dog:\n",
        "  def make_sound(self):\n",
        "    print(\"Bark\")\n",
        "\n",
        "class cat:\n",
        "  def make_sound(self):\n",
        "      print(\"Meow\")\n",
        "\n",
        "def animal_make_sound(animal):\n",
        "  animal.make_sound()\n",
        "\n",
        "cat_1 = cat()\n",
        "dog_1 = dog()\n",
        "\n",
        "animal_make_sound(cat_1)\n",
        "animal_make_sound(dog_1)"
      ],
      "metadata": {
        "colab": {
          "base_uri": "https://localhost:8080/"
        },
        "id": "D3cb3-8C-Nn_",
        "outputId": "563abc4d-8d4e-48e6-dbb6-a9ae484bc52c"
      },
      "execution_count": 62,
      "outputs": [
        {
          "output_type": "stream",
          "name": "stdout",
          "text": [
            "Meow\n",
            "Bark\n"
          ]
        }
      ]
    },
    {
      "cell_type": "code",
      "source": [],
      "metadata": {
        "id": "n_o37JIm_RAK"
      },
      "execution_count": null,
      "outputs": []
    }
  ]
}
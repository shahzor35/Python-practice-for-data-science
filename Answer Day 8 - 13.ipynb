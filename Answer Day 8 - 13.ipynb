{
 "cells": [
  {
   "cell_type": "markdown",
   "metadata": {},
   "source": [
    "Lists and Tuples"
   ]
  },
  {
   "cell_type": "code",
   "execution_count": 4,
   "metadata": {},
   "outputs": [
    {
     "name": "stdout",
     "output_type": "stream",
     "text": [
      "[1, 2, 3, 4, 5, 6, 7, 8, 9, 10]\n",
      "[1, 2, 3, 4, 5, 6, 7, 8, 9]\n",
      "[1, 2, 3, 4, 5, 6, 7, 8, 9, 11]\n"
     ]
    }
   ],
   "source": [
    "# 1.Write a program to create a list of numbers, remove the last element, and then add a new element to the list.\n",
    "my_list = [1,2,3,4,5,6,7,8,9,10]\n",
    "print(my_list)\n",
    "# Removing the last element\n",
    "my_list.pop()\n",
    "print(my_list)\n",
    "# Adding a new element to the list\n",
    "my_list.append(11)\n",
    "print(my_list)"
   ]
  },
  {
   "cell_type": "code",
   "execution_count": 5,
   "metadata": {},
   "outputs": [
    {
     "name": "stdout",
     "output_type": "stream",
     "text": [
      "8\n"
     ]
    }
   ],
   "source": [
    "# 2.Given a nested list [[1, 2, 3], [4, 5, 6], [7, 8, 9]], retrieve the element 8.\n",
    "my_nested_list = [[1, 2, 3], [4, 5, 6], [7, 8, 9]]\n",
    "print(my_nested_list[2][1])"
   ]
  },
  {
   "cell_type": "code",
   "execution_count": null,
   "metadata": {},
   "outputs": [
    {
     "name": "stdout",
     "output_type": "stream",
     "text": [
      "My shallow copy list is :  [1, 2, [3, 4], 5]\n",
      "After modifying shallow copy:\n",
      "Original list: [1, 2, [6, 4], 5]\n",
      "Shallow copy: [1, 2, [6, 4], 5]\n",
      "My deep copy list is :  [1, 2, [3, 4], 5]\n",
      "After modifying deep copy:\n",
      "Original list: [1, 2, [3, 4], 5]\n",
      "Deep copy: [1, 2, [6, 4], 5]\n"
     ]
    }
   ],
   "source": [
    "# 3.Demonstrate the difference between a shallow and deep copy of a list.\n",
    "# Shallow copy\n",
    "my_list_1 = [1,2,[3,4],5]\n",
    "# shallow copy\n",
    "shallow_copy = my_list_1.copy()\n",
    "print(\"My shallow copy list is : \",shallow_copy)\n",
    "shallow_copy[2][0] = 6  # copied list have been changed\n",
    "print(\"After modifying shallow copy:\")\n",
    "print(\"Original list:\", my_list_1)  # Notice this is affected\n",
    "print(\"Shallow copy:\", shallow_copy)\n",
    "\n",
    "# deep copy\n",
    "import copy\n",
    "my_list_2 = [1,2,[3,4],5]\n",
    "# deep copy\n",
    "deep_copy = copy.deepcopy(my_list_2)\n",
    "print(\"My deep copy list is : \",deep_copy)\n",
    "deep_copy[2][0] = 6   # copied list have been changed\n",
    "print(\"After modifying deep copy:\")\n",
    "print(\"Original list:\", my_list_2)  # This remained unchanged\n",
    "print(\"Deep copy:\", deep_copy)"
   ]
  },
  {
   "cell_type": "code",
   "execution_count": 22,
   "metadata": {},
   "outputs": [
    {
     "name": "stdout",
     "output_type": "stream",
     "text": [
      "My Tuple :  (1, 2, 3, 4, 5)\n",
      "(4, 5)\n",
      "5\n"
     ]
    }
   ],
   "source": [
    "# 4.Create a tuple of integers. Print the last two elements and the first element in reverse order.\n",
    "my_tuple = (1,2,3,4,5)\n",
    "print(\"My Tuple : \", my_tuple)\n",
    "print(my_tuple[3:5])\n",
    "print(my_tuple[4])"
   ]
  },
  {
   "cell_type": "markdown",
   "metadata": {},
   "source": [
    "Loops and Patterns"
   ]
  },
  {
   "cell_type": "code",
   "execution_count": 42,
   "metadata": {},
   "outputs": [
    {
     "name": "stdout",
     "output_type": "stream",
     "text": [
      "1\n",
      "2\n",
      "3\n",
      "4\n",
      "6\n",
      "7\n",
      "8\n",
      "9\n",
      "10\n"
     ]
    }
   ],
   "source": [
    "# 1.Use a while loop to print numbers from 1 to 10, but skip the number 5.\n",
    "i = 1\n",
    "while (i<=10):\n",
    "    if i == 5:\n",
    "        i += 1\n",
    "        continue\n",
    "    print(i)\n",
    "    i += 1"
   ]
  },
  {
   "cell_type": "code",
   "execution_count": 49,
   "metadata": {},
   "outputs": [
    {
     "name": "stdout",
     "output_type": "stream",
     "text": [
      "*\n",
      "**\n",
      "***\n",
      "****\n"
     ]
    }
   ],
   "source": [
    "# 2.Write a program to print the following star pattern:\n",
    "# *\n",
    "# **\n",
    "# ***\n",
    "# ****\n",
    "star = \"*\"\n",
    "num = 1\n",
    "update_star = \"\"\n",
    "while num <= 4:\n",
    "    update_star  = update_star + star\n",
    "    print(update_star)\n",
    "    num = num + 1"
   ]
  },
  {
   "cell_type": "code",
   "execution_count": 52,
   "metadata": {},
   "outputs": [
    {
     "name": "stdout",
     "output_type": "stream",
     "text": [
      "2\n",
      "4\n",
      "6\n",
      "8\n",
      "10\n",
      "12\n",
      "14\n",
      "16\n",
      "18\n",
      "20\n"
     ]
    }
   ],
   "source": [
    "# 3.Using a for loop, print all even numbers between 1 and 20.\n",
    "for num in range(2,21,2):\n",
    "    print(num)"
   ]
  },
  {
   "cell_type": "code",
   "execution_count": 53,
   "metadata": {},
   "outputs": [
    {
     "name": "stdout",
     "output_type": "stream",
     "text": [
      "5050\n"
     ]
    }
   ],
   "source": [
    "# 4.Calculate the sum of all numbers from 1 to 100 using a loop.\n",
    "sum_of_all_numbers = 0\n",
    "for num in range(1,101):\n",
    "    sum_of_all_numbers = sum_of_all_numbers + num\n",
    "print(sum_of_all_numbers)"
   ]
  },
  {
   "cell_type": "markdown",
   "metadata": {},
   "source": [
    "Dictionaries"
   ]
  },
  {
   "cell_type": "code",
   "execution_count": 58,
   "metadata": {},
   "outputs": [
    {
     "name": "stdout",
     "output_type": "stream",
     "text": [
      "My orginal dictionary:  {'Name': 'SHAHZOR AHMED', 'Age': 21, 'Grade': 'A'}\n",
      "My updated dictionary after adding city : {'Name': 'SHAHZOR AHMED', 'Age': 21, 'Grade': 'A', 'City': 'Hyderabad'}\n"
     ]
    }
   ],
   "source": [
    "# 1.Create a dictionary with student details like name, age, and grade.\n",
    "# Add a new key-value pair for the student's city.\n",
    "student_dict = {\n",
    "    'Name': 'SHAHZOR AHMED',\n",
    "    'Age': 21,\n",
    "    'Grade': \"A\"\n",
    "}\n",
    "print(\"My orginal dictionary: \",student_dict)\n",
    "student_dict['City'] = \"Hyderabad\"\n",
    "print(\"My updated dictionary after adding city :\",student_dict)"
   ]
  },
  {
   "cell_type": "code",
   "execution_count": 60,
   "metadata": {},
   "outputs": [
    {
     "name": "stdout",
     "output_type": "stream",
     "text": [
      "80\n"
     ]
    }
   ],
   "source": [
    "# 2.Given a nested dictionary, access the value of a nested key\n",
    "# (for example, in {'student': {'name': 'Alice', 'marks': {'math': 80}}}, print the value of 'math').\n",
    "student_dict_1 = {\n",
    "    'name': 'Alice',\n",
    "    'marks': {'math': 80}\n",
    "}\n",
    "print(student_dict_1['marks']['math'])"
   ]
  },
  {
   "cell_type": "code",
   "execution_count": 71,
   "metadata": {},
   "outputs": [
    {
     "name": "stdout",
     "output_type": "stream",
     "text": [
      "My orginal dictionary:  {'Price_Apple': 100, 'price_Banana': 60, 'price_Peach': 130}\n",
      "My dictionary after update the price of an existing fruit:  {'Price_Apple': 100, 'price_Banana': 80, 'price_Peach': 130}\n",
      "My dictionary after add a new fruit to the dictionary:  {'Price_Apple': 100, 'price_Banana': 80, 'price_Peach': 130, 'price_grapes': 90}\n"
     ]
    }
   ],
   "source": [
    "# 3.Using a dictionary of fruit prices,\n",
    "# update the price of an existing fruit and add a new fruit to the dictionary.\n",
    "my_fruit_dict = {\n",
    "    'Price_Apple': 100,\n",
    "    'price_Banana': 60,\n",
    "    'price_Peach': 130\n",
    "}\n",
    "print(\"My orginal dictionary: \",my_fruit_dict)\n",
    "my_fruit_dict['price_Banana'] = 80\n",
    "print(\"My dictionary after update the price of an existing fruit: \",my_fruit_dict)\n",
    "my_fruit_dict['price_grapes'] = 90\n",
    "print(\"My dictionary after add a new fruit to the dictionary: \",my_fruit_dict)"
   ]
  },
  {
   "cell_type": "markdown",
   "metadata": {},
   "source": [
    "Functions"
   ]
  },
  {
   "cell_type": "code",
   "execution_count": 74,
   "metadata": {},
   "outputs": [
    {
     "name": "stdout",
     "output_type": "stream",
     "text": [
      " Multiplication of 5.0 and 2.0 is : 10.0\n"
     ]
    }
   ],
   "source": [
    "# 1.Define a function that accepts two numbers and returns their product.\n",
    "def multiply_two_num(x,y):\n",
    "    return x * y\n",
    "x = float(input(\"Enter the value of x: \"))\n",
    "y = float(input(\"Enter the value of y: \"))\n",
    "result = multiply_two_num(x,y)\n",
    "print(f\" Multiplication of {x} and {y} is : {result}\")"
   ]
  },
  {
   "cell_type": "code",
   "execution_count": 90,
   "metadata": {},
   "outputs": [
    {
     "name": "stdout",
     "output_type": "stream",
     "text": [
      "Total sum is :  6\n"
     ]
    }
   ],
   "source": [
    "# 2.Create a function that takes an arbitrary number of arguments and returns their sum.\n",
    "def arbitary_function_sum(*args):\n",
    "    total_sum = 0\n",
    "    for num in args:\n",
    "        total_sum = total_sum + num\n",
    "    return total_sum\n",
    "result = arbitary_function_sum(1,2,3)\n",
    "print(\"Total sum is : \", result)"
   ]
  },
  {
   "cell_type": "code",
   "execution_count": 95,
   "metadata": {},
   "outputs": [
    {
     "name": "stdout",
     "output_type": "stream",
     "text": [
      "25\n"
     ]
    }
   ],
   "source": [
    "# 3.Use a lambda function to calculate the square of a number and test it with a few examples.\n",
    "square_of_number = lambda x: x * x\n",
    "print(square_of_number(5))"
   ]
  },
  {
   "cell_type": "markdown",
   "metadata": {},
   "source": [
    "Lambdas, Map, Filter, and Reduce"
   ]
  },
  {
   "cell_type": "code",
   "execution_count": 96,
   "metadata": {},
   "outputs": [
    {
     "name": "stdout",
     "output_type": "stream",
     "text": [
      "[2, 4, 6, 8, 10]\n"
     ]
    }
   ],
   "source": [
    "# 1.Use a lambda function with map() to double each number in a list [1, 2, 3, 4, 5].\n",
    "my_list = [1, 2, 3, 4, 5]\n",
    "double_each_number = lambda x: x*2\n",
    "result = map(double_each_number, my_list)\n",
    "print(list(result))"
   ]
  },
  {
   "cell_type": "code",
   "execution_count": 98,
   "metadata": {},
   "outputs": [
    {
     "name": "stdout",
     "output_type": "stream",
     "text": [
      "[1, 2, 5, 6, 8, 10]\n"
     ]
    }
   ],
   "source": [
    "# 2.Write a program using filter() to filter out only positive numbers from a list.\n",
    "my_list = [1,2,-3,-4,5,6,-7,8,-9,10]\n",
    "def only_positive_no(num):\n",
    "    if num > 0:\n",
    "        return True\n",
    "result = filter(only_positive_no, my_list)\n",
    "print(list(result))"
   ]
  },
  {
   "cell_type": "code",
   "execution_count": 108,
   "metadata": {},
   "outputs": [
    {
     "name": "stdout",
     "output_type": "stream",
     "text": [
      "24\n"
     ]
    }
   ],
   "source": [
    "# 3.Using reduce(), find the product of all numbers in a list [1, 2, 3, 4].\n",
    "from functools import reduce\n",
    "my_list = [1,2,3,4]\n",
    "def product_of_num(acc,num):\n",
    "    return acc * num\n",
    "result = reduce(product_of_num, my_list,1)\n",
    "print(result)"
   ]
  },
  {
   "cell_type": "code",
   "execution_count": 113,
   "metadata": {},
   "outputs": [
    {
     "name": "stdout",
     "output_type": "stream",
     "text": [
      "100\n"
     ]
    }
   ],
   "source": [
    "# 4.Create a lambda function to add two numbers. \n",
    "# Use it with reduce() to sum all numbers in a list [10, 20, 30, 40].\n",
    "my_list = [10,20,30,40]\n",
    "add = lambda x, y: x + y\n",
    "result = reduce(add, my_list)\n",
    "print(result)"
   ]
  }
 ],
 "metadata": {
  "kernelspec": {
   "display_name": "your_environment_name",
   "language": "python",
   "name": "your_environment_name"
  },
  "language_info": {
   "codemirror_mode": {
    "name": "ipython",
    "version": 3
   },
   "file_extension": ".py",
   "mimetype": "text/x-python",
   "name": "python",
   "nbconvert_exporter": "python",
   "pygments_lexer": "ipython3",
   "version": "3.10.9"
  }
 },
 "nbformat": 4,
 "nbformat_minor": 2
}

{
 "cells": [
  {
   "cell_type": "markdown",
   "id": "196025b4-edf4-4a1e-92ca-105899669ca8",
   "metadata": {},
   "source": [
    "Basic Python Syntax and Operations"
   ]
  },
  {
   "cell_type": "code",
   "execution_count": 3,
   "id": "5b6a38ee-f99d-4f4e-be9d-4e5e14a4a162",
   "metadata": {},
   "outputs": [
    {
     "name": "stdout",
     "output_type": "stream",
     "text": [
      "Welcome to python Programming!\n"
     ]
    }
   ],
   "source": [
    "#1.Write a Python program that prints \"Welcome to Python Programming!\".\n",
    "print(\"Welcome to python Programming!\")"
   ]
  },
  {
   "cell_type": "code",
   "execution_count": 4,
   "id": "587a6694-7a79-4ccd-913d-2c56b187a9eb",
   "metadata": {},
   "outputs": [
    {
     "name": "stdout",
     "output_type": "stream",
     "text": [
      "100\n"
     ]
    }
   ],
   "source": [
    "\"\"\"2.Declare two variables, num1 and num2, with values 25 and 75.\n",
    "Calculate their sum and print it.\"\"\"\n",
    "num1 = 25\n",
    "num2 = 75\n",
    "sum = num1 + num2\n",
    "print(sum)"
   ]
  },
  {
   "cell_type": "code",
   "execution_count": 7,
   "id": "a229c300-c4bc-4b31-b298-3c011efcbeab",
   "metadata": {},
   "outputs": [
    {
     "name": "stdout",
     "output_type": "stream",
     "text": [
      "My name is Shahzor Ahmed and i stay in Hyderabad\n"
     ]
    }
   ],
   "source": [
    "\"\"\"3.Create a variable with your name and another with your city.\n",
    "Print a statement introducing yourself using these variables.\"\"\"\n",
    "my_name = \"My name is Shahzor Ahmed\"\n",
    "my_city = \"and i stay in Hyderabad\"\n",
    "print(my_name +\" \"+my_city)"
   ]
  },
  {
   "cell_type": "code",
   "execution_count": 12,
   "id": "773d2ab9-fbf0-4a1f-becd-e4f9d827e13c",
   "metadata": {},
   "outputs": [
    {
     "name": "stdout",
     "output_type": "stream",
     "text": [
      "This is a variable value:  113\n",
      "This is a constant value:  X415\n"
     ]
    }
   ],
   "source": [
    "\"\"\"4.Explain the difference between a variable and a constant in Python,\n",
    "with an example.\"\"\"\n",
    "# Variable stores a value that can be changed at a given particular time\n",
    "petrol_price = 113\n",
    "print(\"This is a variable value: \",petrol_price)\n",
    "\"\"\"Constant stores a value that indicate a value,\n",
    "that should not be changed at a given particar time\"\"\"\n",
    "ASUS_LAPTOP_MODEL_NUMBER = \"X415\"\n",
    "print(\"This is a constant value: \",ASUS_LAPTOP_MODEL_NUMBER)"
   ]
  },
  {
   "cell_type": "code",
   "execution_count": 20,
   "id": "48487cbd-dc1b-473d-adca-3428c447e747",
   "metadata": {},
   "outputs": [
    {
     "name": "stdout",
     "output_type": "stream",
     "text": [
      "This is a float number:  45.67\n",
      "<class 'float'>\n",
      "This is a integer number:  45\n",
      "<class 'int'>\n",
      "This is a string:  45.67\n",
      "<class 'str'>\n"
     ]
    }
   ],
   "source": [
    "\"\"\"5.Demonstrate type conversion by converting a float number 45.67,\n",
    "to an integer and a string.\"\"\"\n",
    "float_number = 45.67\n",
    "print(\"This is a float number: \",float_number)\n",
    "print(type(float_number))\n",
    "int_number = int(float_number)\n",
    "print(\"This is a integer number: \",int_number)\n",
    "print(type(int_number))\n",
    "string = str(float_number)\n",
    "print(\"This is a string: \",string)\n",
    "print(type(string))"
   ]
  },
  {
   "cell_type": "markdown",
   "id": "c7ba6dda-c9fa-401e-a914-40540c3c9f63",
   "metadata": {},
   "source": [
    "Conditional Statements"
   ]
  },
  {
   "cell_type": "code",
   "execution_count": 27,
   "id": "a1b6f73e-e1f6-4242-801a-b63d55088bc8",
   "metadata": {},
   "outputs": [
    {
     "name": "stdout",
     "output_type": "stream",
     "text": [
      "Enter age value for checking eligibility for voting:  11\n"
     ]
    },
    {
     "name": "stdout",
     "output_type": "stream",
     "text": [
      "Not eligible for voting.\n"
     ]
    }
   ],
   "source": [
    "\"\"\"1.Write a Python program to check,\n",
    "if a given age is eligible for voting (age ≥ 18).\"\"\"\n",
    "age = int(input(\"Enter age value for checking eligibility for voting: \"))\n",
    "if (age >= 18):\n",
    "    print(\"Eligible for voting.\")\n",
    "else:\n",
    "    print(\"Not eligible for voting.\")"
   ]
  },
  {
   "cell_type": "code",
   "execution_count": 36,
   "id": "eece48e2-e35d-4cdf-b3e5-7bfc6f1bdf2f",
   "metadata": {},
   "outputs": [
    {
     "name": "stdout",
     "output_type": "stream",
     "text": [
      "Enter 1st number:  12\n",
      "Enter 2nd number:  12.0\n"
     ]
    },
    {
     "name": "stdout",
     "output_type": "stream",
     "text": [
      "Both entered number are equal.\n"
     ]
    }
   ],
   "source": [
    "\"\"\"2.Create a program that takes two numbers from the user\n",
    "and checks if they are equal or not.\"\"\"\n",
    "number_1 = float(input(\"Enter 1st number: \"))\n",
    "number_2 = float(input(\"Enter 2nd number: \"))\n",
    "if (number_1 == number_2):\n",
    "    print(\"Both entered number are equal.\")\n",
    "else:\n",
    "    print(\"Both number are not equal.\")"
   ]
  },
  {
   "cell_type": "code",
   "execution_count": 43,
   "id": "a91650bb-dea2-43ff-b5ab-ace13c69639d",
   "metadata": {},
   "outputs": [
    {
     "name": "stdout",
     "output_type": "stream",
     "text": [
      "Enter day:  sunday\n"
     ]
    },
    {
     "name": "stdout",
     "output_type": "stream",
     "text": [
      "Its a weekend.\n"
     ]
    }
   ],
   "source": [
    "# 3.Write a program to determine whether a given day is a weekday or a weekend.\n",
    "Day = input(\"Enter day: \").lower()\n",
    "if Day == \"saturday\" or Day == \"sunday\":\n",
    "    print(\"Its a weekend.\")\n",
    "else:\n",
    "    print(\"Its a weekday.\")"
   ]
  },
  {
   "cell_type": "code",
   "execution_count": 65,
   "id": "1907bc4a-0d02-4229-951f-636a93a44f52",
   "metadata": {},
   "outputs": [
    {
     "name": "stdout",
     "output_type": "stream",
     "text": [
      "Enter your age :  21\n"
     ]
    },
    {
     "name": "stdout",
     "output_type": "stream",
     "text": [
      "Person is adult.\n"
     ]
    }
   ],
   "source": [
    "\"\"\" 4.Write a program to categorize a person as \"child,\" \"adult,\"\n",
    "or \"senior citizen\" based on age.\"\"\"\n",
    "Age = int(input(\"Enter your age : \"))\n",
    "if Age < 18:\n",
    "    print(\"Person is child.\");\n",
    "elif Age >= 18 and Age <= 64:\n",
    "    print(\"Person is adult.\");\n",
    "else:\n",
    "    print(\"Person is senior citizen.\")"
   ]
  },
  {
   "cell_type": "markdown",
   "id": "b87cd3be-b52a-407c-8d0f-7d9a08c5c7c1",
   "metadata": {},
   "source": [
    "Strings"
   ]
  },
  {
   "cell_type": "code",
   "execution_count": 3,
   "id": "28dd6038-d84c-4b38-99b7-cae4cc22d17a",
   "metadata": {},
   "outputs": [
    {
     "name": "stdout",
     "output_type": "stream",
     "text": [
      "This is my normal string:  Python Programming.\n",
      "This is a uppercase string :  PYTHON PROGRAMMING.\n",
      "This is a lowercase string :  python programming.\n"
     ]
    }
   ],
   "source": [
    "# 1.Given a string \"Python Programming\", write a program to convert it to uppercase and lowercase.\n",
    "string = \"Python Programming.\"\n",
    "print(\"This is my normal string: \", string)\n",
    "UPPER_CASE_STRING = string.upper()\n",
    "lower_case_string = string.lower()\n",
    "print(\"This is a uppercase string : \",UPPER_CASE_STRING)\n",
    "print(\"This is a lowercase string : \",lower_case_string)"
   ]
  },
  {
   "cell_type": "code",
   "execution_count": 5,
   "id": "b837f6d4",
   "metadata": {},
   "outputs": [
    {
     "name": "stdout",
     "output_type": "stream",
     "text": [
      "Hello, World!\n",
      "Hello, Python!\n"
     ]
    }
   ],
   "source": [
    "# 2.Write a program to replace the word \"World\" with \"Python\" in the string \"Hello, World!\".\n",
    "string_1 = \"Hello, World!\"\n",
    "print(string_1)\n",
    "replaced_string_1 = string_1.replace(\"World\",\"Python\")\n",
    "print(replaced_string_1)"
   ]
  },
  {
   "cell_type": "code",
   "execution_count": 8,
   "id": "1477a9c3",
   "metadata": {},
   "outputs": [
    {
     "name": "stdout",
     "output_type": "stream",
     "text": [
      "I love Python\n",
      "love\n"
     ]
    }
   ],
   "source": [
    "# 3.Using string slicing, extract \"love\" from the string \"I love Python\".\n",
    "string_2 = \"I love Python\"\n",
    "print(string_2)\n",
    "extracted_string = string_2[2:6]\n",
    "print(extracted_string)"
   ]
  },
  {
   "cell_type": "code",
   "execution_count": 10,
   "id": "2749a724",
   "metadata": {},
   "outputs": [
    {
     "name": "stdout",
     "output_type": "stream",
     "text": [
      "3\n"
     ]
    }
   ],
   "source": [
    "# 4.Count the number of occurrences of the letter \"l\" in the string \"Hello, world!\".\n",
    "string_3 = \"Hello, world!\"\n",
    "print(string_3.count(\"l\"))"
   ]
  },
  {
   "cell_type": "markdown",
   "id": "770840ae",
   "metadata": {},
   "source": [
    "Lists"
   ]
  },
  {
   "cell_type": "code",
   "execution_count": 14,
   "id": "1aca8797",
   "metadata": {},
   "outputs": [
    {
     "name": "stdout",
     "output_type": "stream",
     "text": [
      "Orginal list:  [1, 2, 3, 4, 5]\n",
      "Appended list:  [1, 2, 3, 4, 5, 6]\n"
     ]
    }
   ],
   "source": [
    "# 1.Create a list of numbers from 1 to 5. Append the number 6 to the list and print it.\n",
    "my_list = [1,2,3,4,5]\n",
    "print(\"Orginal list: \",my_list)\n",
    "my_list.append(6)\n",
    "print(\"Appended list: \",my_list)"
   ]
  },
  {
   "cell_type": "code",
   "execution_count": 19,
   "id": "fff69de0",
   "metadata": {},
   "outputs": [
    {
     "name": "stdout",
     "output_type": "stream",
     "text": [
      "[1, 2, 3, 4, 5, 6]\n"
     ]
    }
   ],
   "source": [
    "# 2.Write a program to merge two lists [1, 2, 3] and [4, 5, 6] using extend() and print the result.\n",
    "my_list_1 = [1,2,3]\n",
    "my_list_1.extend([4,5,6])\n",
    "print(my_list_1)"
   ]
  },
  {
   "cell_type": "code",
   "execution_count": 28,
   "id": "97ff2584",
   "metadata": {},
   "outputs": [
    {
     "name": "stdout",
     "output_type": "stream",
     "text": [
      "Un arranged list:  [3, 1, 4, 5, 2]\n",
      "Descending order list:  [5, 4, 3, 2, 1]\n"
     ]
    }
   ],
   "source": [
    "# 3.Sort the list [3, 1, 4, 5, 2] in descending order and print it.\n",
    "un_arranged_list = [3,1,4,5,2]\n",
    "print(\"Un arranged list: \",un_arranged_list)\n",
    "un_arranged_list.sort(reverse= True)\n",
    "print(\"Descending order list: \",un_arranged_list)"
   ]
  }
 ],
 "metadata": {
  "kernelspec": {
   "display_name": "your_environment_name",
   "language": "python",
   "name": "your_environment_name"
  },
  "language_info": {
   "codemirror_mode": {
    "name": "ipython",
    "version": 3
   },
   "file_extension": ".py",
   "mimetype": "text/x-python",
   "name": "python",
   "nbconvert_exporter": "python",
   "pygments_lexer": "ipython3",
   "version": "3.10.9"
  }
 },
 "nbformat": 4,
 "nbformat_minor": 5
}
